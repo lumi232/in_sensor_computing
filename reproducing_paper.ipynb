{
 "cells": [
  {
   "cell_type": "code",
   "execution_count": 2,
   "metadata": {},
   "outputs": [],
   "source": [
    "import tensorflow as tf\n",
    "import numpy as np\n",
    "\n",
    "# Load the MNIST dataset\n",
    "(train_images, train_labels), (test_images, test_labels) = tf.keras.datasets.mnist.load_data()\n",
    "\n",
    "# Preprocess the data\n",
    "train_images = train_images / 255.0\n",
    "test_images = test_images / 255.0\n",
    "\n",
    "# Convert labels to binary classification\n",
    "train_images_binary = np.zeros_like(train_images)\n",
    "test_images_binary = np.zeros_like(test_images)\n",
    "\n",
    "# Apply binary thresholding to each image\n",
    "threshold = 0.5\n",
    "train_images_binary[train_images > threshold] = 1\n",
    "test_images_binary[test_images > threshold] = 1"
   ]
  },
  {
   "cell_type": "code",
   "execution_count": 3,
   "metadata": {},
   "outputs": [
    {
     "data": {
      "text/plain": [
       "<matplotlib.image.AxesImage at 0x162b8c970>"
      ]
     },
     "execution_count": 3,
     "metadata": {},
     "output_type": "execute_result"
    },
    {
     "data": {
      "image/png": "[encoded data removed]",
      "text/plain": [
       "<Figure size 640x480 with 1 Axes>"
      ]
     },
     "metadata": {},
     "output_type": "display_data"
    }
   ],
   "source": [
    "import matplotlib.pyplot as plt\n",
    "\n",
    "plt.imshow(train_images_binary[0])"
   ]
  },
  {
   "cell_type": "code",
   "execution_count": 4,
   "metadata": {},
   "outputs": [
    {
     "data": {
      "text/plain": [
       "array([0., 0., 0., 0., 0., 0., 0., 0., 1., 1., 1., 1., 1., 1., 1., 1., 1.,\n",
       "       1., 0., 0., 0., 0., 0., 0., 0., 0., 0., 0.])"
      ]
     },
     "execution_count": 4,
     "metadata": {},
     "output_type": "execute_result"
    }
   ],
   "source": [
    "train_images_binary[0, 8]"
   ]
  },
  {
   "cell_type": "code",
   "execution_count": 5,
   "metadata": {},
   "outputs": [],
   "source": [
    "train_images_flat = train_images_binary.reshape(train_images.shape[0], -1)\n",
    "test_images_flat = test_images_binary.reshape(test_images.shape[0], -1)"
   ]
  },
  {
   "cell_type": "code",
   "execution_count": 6,
   "metadata": {},
   "outputs": [
    {
     "name": "stdout",
     "output_type": "stream",
     "text": [
      "0.0\n",
      "0.0\n",
      "0.0\n",
      "0.0\n",
      "0.0\n",
      "0.0\n",
      "0.0\n",
      "0.0\n",
      "1.0\n",
      "1.0\n",
      "1.0\n",
      "1.0\n",
      "1.0\n",
      "1.0\n",
      "1.0\n",
      "1.0\n",
      "1.0\n",
      "1.0\n",
      "0.0\n",
      "0.0\n",
      "0.0\n",
      "0.0\n",
      "0.0\n",
      "0.0\n",
      "0.0\n",
      "0.0\n",
      "0.0\n",
      "0.0\n"
     ]
    }
   ],
   "source": [
    "for i in range(28*8, 28*9):\n",
    "   print(train_images_flat[0][i])"
   ]
  },
  {
   "cell_type": "code",
   "execution_count": 7,
   "metadata": {},
   "outputs": [
    {
     "data": {
      "text/plain": [
       "(60000, 784)"
      ]
     },
     "execution_count": 7,
     "metadata": {},
     "output_type": "execute_result"
    }
   ],
   "source": [
    "train_images_flat.shape"
   ]
  },
  {
   "cell_type": "code",
   "execution_count": 8,
   "metadata": {},
   "outputs": [],
   "source": [
    "train_images_reshaped = train_images_flat.reshape(train_images_flat.shape[0], 196, 4)\n",
    "test_images_reshaped = test_images_flat.reshape(test_images_flat.shape[0], 196, 4)"
   ]
  },
  {
   "cell_type": "code",
   "execution_count": 9,
   "metadata": {},
   "outputs": [
    {
     "name": "stdout",
     "output_type": "stream",
     "text": [
      "[0, 0, 7.97, 21.74]\n"
     ]
    }
   ],
   "source": [
    "reading_mapping = {\n",
    "    (0, 0, 0, 0): [0, 0, 0, 0],\n",
    "    (0, 0, 0, 1): [0, 0, 0, 7.58],\n",
    "    (0, 0, 1, 0): [0, 0, 7.97, 0],\n",
    "    (0, 0, 1, 1): [0, 0, 7.97, 21.74],\n",
    "    (0, 1, 0, 0): [0, 7.58, 0, 0],\n",
    "    (0, 1, 0, 1): [0, 6.68, 0, 17.24],\n",
    "    (0, 1, 1, 0): [0, 7.58, 21.91, 1.91],\n",
    "    (0, 1, 1, 1): [0, 7.58, 22.19, 39.04],\n",
    "    (1, 0, 0, 0): [5.64, 0, 0, 0],\n",
    "    (1, 0, 0, 1): [4.19, 0, 0, 14.88],\n",
    "    (1, 0, 1, 0): [4.80, 0, 16.56, 1.06],\n",
    "    (1, 0, 1, 1): [4.80, 0, 16.56, 33.74],\n",
    "    (1, 1, 0, 0): [5.64, 20.91, 1.52, 0.38],\n",
    "    (1, 1, 0, 1): [5.49, 19.23, 1.22, 28.39],\n",
    "    (1, 1, 1, 0): [5.64, 20.91, 38.77, 5.80],\n",
    "    (1, 1, 1, 1): [5.64, 20.91, 38.77, 57.86]\n",
    "}\n",
    "\n",
    "# Accessing values from the dictionary\n",
    "key = (0, 0, 1, 1)\n",
    "value = reading_mapping[key]\n",
    "print(value)"
   ]
  },
  {
   "cell_type": "code",
   "execution_count": 10,
   "metadata": {},
   "outputs": [
    {
     "name": "stdout",
     "output_type": "stream",
     "text": [
      "[[[0. 0. 0. 0.]\n",
      "  [0. 0. 0. 0.]\n",
      "  [0. 0. 0. 0.]\n",
      "  ...\n",
      "  [0. 0. 0. 0.]\n",
      "  [0. 0. 0. 0.]\n",
      "  [0. 0. 0. 0.]]\n",
      "\n",
      " [[0. 0. 0. 0.]\n",
      "  [0. 0. 0. 0.]\n",
      "  [0. 0. 0. 0.]\n",
      "  ...\n",
      "  [0. 0. 0. 0.]\n",
      "  [0. 0. 0. 0.]\n",
      "  [0. 0. 0. 0.]]\n",
      "\n",
      " [[0. 0. 0. 0.]\n",
      "  [0. 0. 0. 0.]\n",
      "  [0. 0. 0. 0.]\n",
      "  ...\n",
      "  [0. 0. 0. 0.]\n",
      "  [0. 0. 0. 0.]\n",
      "  [0. 0. 0. 0.]]\n",
      "\n",
      " ...\n",
      "\n",
      " [[0. 0. 0. 0.]\n",
      "  [0. 0. 0. 0.]\n",
      "  [0. 0. 0. 0.]\n",
      "  ...\n",
      "  [0. 0. 0. 0.]\n",
      "  [0. 0. 0. 0.]\n",
      "  [0. 0. 0. 0.]]\n",
      "\n",
      " [[0. 0. 0. 0.]\n",
      "  [0. 0. 0. 0.]\n",
      "  [0. 0. 0. 0.]\n",
      "  ...\n",
      "  [0. 0. 0. 0.]\n",
      "  [0. 0. 0. 0.]\n",
      "  [0. 0. 0. 0.]]\n",
      "\n",
      " [[0. 0. 0. 0.]\n",
      "  [0. 0. 0. 0.]\n",
      "  [0. 0. 0. 0.]\n",
      "  ...\n",
      "  [0. 0. 0. 0.]\n",
      "  [0. 0. 0. 0.]\n",
      "  [0. 0. 0. 0.]]]\n"
     ]
    }
   ],
   "source": [
    "for i in range(len(train_images_reshaped)):\n",
    "    for j in range(len(train_images_reshaped[i])):\n",
    "        # Convert the 4-bit binary sequence to tuple key\n",
    "        binary_sequence = tuple(train_images_reshaped[i, j])\n",
    "\n",
    "        # Replace the sequence using the reading_mapping mappings\n",
    "        if binary_sequence in reading_mapping:\n",
    "            train_images_reshaped[i, j] = np.array(reading_mapping[binary_sequence])\n",
    "\n",
    "# Verify the updated train_image_reshape array\n",
    "print(train_images_reshaped)"
   ]
  },
  {
   "cell_type": "code",
   "execution_count": 11,
   "metadata": {},
   "outputs": [
    {
     "name": "stdout",
     "output_type": "stream",
     "text": [
      "[[[0. 0. 0. 0.]\n",
      "  [0. 0. 0. 0.]\n",
      "  [0. 0. 0. 0.]\n",
      "  ...\n",
      "  [0. 0. 0. 0.]\n",
      "  [0. 0. 0. 0.]\n",
      "  [0. 0. 0. 0.]]\n",
      "\n",
      " [[0. 0. 0. 0.]\n",
      "  [0. 0. 0. 0.]\n",
      "  [0. 0. 0. 0.]\n",
      "  ...\n",
      "  [0. 0. 0. 0.]\n",
      "  [0. 0. 0. 0.]\n",
      "  [0. 0. 0. 0.]]\n",
      "\n",
      " [[0. 0. 0. 0.]\n",
      "  [0. 0. 0. 0.]\n",
      "  [0. 0. 0. 0.]\n",
      "  ...\n",
      "  [0. 0. 0. 0.]\n",
      "  [0. 0. 0. 0.]\n",
      "  [0. 0. 0. 0.]]\n",
      "\n",
      " ...\n",
      "\n",
      " [[0. 0. 0. 0.]\n",
      "  [0. 0. 0. 0.]\n",
      "  [0. 0. 0. 0.]\n",
      "  ...\n",
      "  [0. 0. 0. 0.]\n",
      "  [0. 0. 0. 0.]\n",
      "  [0. 0. 0. 0.]]\n",
      "\n",
      " [[0. 0. 0. 0.]\n",
      "  [0. 0. 0. 0.]\n",
      "  [0. 0. 0. 0.]\n",
      "  ...\n",
      "  [0. 0. 0. 0.]\n",
      "  [0. 0. 0. 0.]\n",
      "  [0. 0. 0. 0.]]\n",
      "\n",
      " [[0. 0. 0. 0.]\n",
      "  [0. 0. 0. 0.]\n",
      "  [0. 0. 0. 0.]\n",
      "  ...\n",
      "  [0. 0. 0. 0.]\n",
      "  [0. 0. 0. 0.]\n",
      "  [0. 0. 0. 0.]]]\n"
     ]
    }
   ],
   "source": [
    "for i in range(len(test_images_reshaped)):\n",
    "    for j in range(len(test_images_reshaped[i])):\n",
    "        # Convert the 4-bit binary sequence to tuple key\n",
    "        binary_sequence = tuple(test_images_reshaped[i, j])\n",
    "\n",
    "        # Replace the sequence using the reading_mapping mappings\n",
    "        if binary_sequence in reading_mapping:\n",
    "            test_images_reshaped[i, j] = np.array(reading_mapping[binary_sequence])\n",
    "\n",
    "# Verify the updated train_image_reshape array\n",
    "print(test_images_reshaped)"
   ]
  },
  {
   "cell_type": "code",
   "execution_count": 12,
   "metadata": {},
   "outputs": [
    {
     "name": "stdout",
     "output_type": "stream",
     "text": [
      "(60000, 784)\n"
     ]
    }
   ],
   "source": [
    "train_image_combined = train_images_reshaped.reshape(len(train_images_reshaped), -1)\n",
    "test_image_combined = test_images_reshaped.reshape(len(test_images_reshaped), -1)\n",
    "\n",
    "# Verify the shape of the updated array\n",
    "print(train_image_combined.shape)"
   ]
  },
  {
   "cell_type": "code",
   "execution_count": 13,
   "metadata": {},
   "outputs": [
    {
     "name": "stdout",
     "output_type": "stream",
     "text": [
      "0.0\n",
      "0.0\n",
      "0.0\n",
      "0.0\n",
      "0.0\n",
      "0.0\n",
      "0.0\n",
      "0.0\n",
      "5.64\n",
      "20.91\n",
      "38.77\n",
      "57.86\n",
      "5.64\n",
      "20.91\n",
      "38.77\n",
      "57.86\n",
      "5.64\n",
      "20.91\n",
      "1.52\n",
      "0.38\n",
      "0.0\n",
      "0.0\n",
      "0.0\n",
      "0.0\n",
      "0.0\n",
      "0.0\n",
      "0.0\n",
      "0.0\n"
     ]
    }
   ],
   "source": [
    "for i in range(28*8, 28*9):\n",
    "   print(train_image_combined[0][i])"
   ]
  },
  {
   "cell_type": "code",
   "execution_count": 33,
   "metadata": {},
   "outputs": [],
   "source": [
    "import tensorflow as tf "
   ]
  },
  {
   "cell_type": "code",
   "execution_count": 37,
   "metadata": {},
   "outputs": [
    {
     "name": "stdout",
     "output_type": "stream",
     "text": [
      "Epoch 1/100\n",
      "1875/1875 [==============================] - 1s 576us/step - loss: 3.6153 - accuracy: 0.6215 - val_loss: 1.3983 - val_accuracy: 0.7926\n",
      "Epoch 2/100\n",
      "1875/1875 [==============================] - 1s 466us/step - loss: 1.2069 - accuracy: 0.8117 - val_loss: 0.9542 - val_accuracy: 0.8364\n",
      "Epoch 3/100\n",
      "1875/1875 [==============================] - 1s 424us/step - loss: 0.8738 - accuracy: 0.8444 - val_loss: 0.7577 - val_accuracy: 0.8575\n",
      "Epoch 4/100\n",
      "1875/1875 [==============================] - 1s 425us/step - loss: 0.7057 - accuracy: 0.8613 - val_loss: 0.6602 - val_accuracy: 0.8675\n",
      "Epoch 5/100\n",
      "1875/1875 [==============================] - 1s 426us/step - loss: 0.6013 - accuracy: 0.8708 - val_loss: 0.5867 - val_accuracy: 0.8748\n",
      "Epoch 6/100\n",
      "1875/1875 [==============================] - 1s 426us/step - loss: 0.5302 - accuracy: 0.8792 - val_loss: 0.5342 - val_accuracy: 0.8797\n",
      "Epoch 7/100\n",
      "1875/1875 [==============================] - 1s 437us/step - loss: 0.4790 - accuracy: 0.8854 - val_loss: 0.4951 - val_accuracy: 0.8877\n",
      "Epoch 8/100\n",
      "1875/1875 [==============================] - 1s 429us/step - loss: 0.4404 - accuracy: 0.8900 - val_loss: 0.4667 - val_accuracy: 0.8885\n",
      "Epoch 9/100\n",
      "1875/1875 [==============================] - 1s 427us/step - loss: 0.4119 - accuracy: 0.8947 - val_loss: 0.4452 - val_accuracy: 0.8918\n",
      "Epoch 10/100\n",
      "1875/1875 [==============================] - 1s 433us/step - loss: 0.3899 - accuracy: 0.8984 - val_loss: 0.4361 - val_accuracy: 0.8916\n",
      "Epoch 11/100\n",
      "1875/1875 [==============================] - 1s 429us/step - loss: 0.3730 - accuracy: 0.9009 - val_loss: 0.4081 - val_accuracy: 0.8969\n",
      "Epoch 12/100\n",
      "1875/1875 [==============================] - 1s 431us/step - loss: 0.3575 - accuracy: 0.9037 - val_loss: 0.4066 - val_accuracy: 0.8963\n",
      "Epoch 13/100\n",
      "1875/1875 [==============================] - 1s 429us/step - loss: 0.3477 - accuracy: 0.9061 - val_loss: 0.3981 - val_accuracy: 0.8978\n",
      "Epoch 14/100\n",
      "1875/1875 [==============================] - 1s 430us/step - loss: 0.3381 - accuracy: 0.9069 - val_loss: 0.3874 - val_accuracy: 0.9000\n",
      "Epoch 15/100\n",
      "1875/1875 [==============================] - 1s 428us/step - loss: 0.3307 - accuracy: 0.9089 - val_loss: 0.3783 - val_accuracy: 0.9009\n",
      "Epoch 16/100\n",
      "1875/1875 [==============================] - 1s 428us/step - loss: 0.3237 - accuracy: 0.9094 - val_loss: 0.3773 - val_accuracy: 0.9042\n",
      "Epoch 17/100\n",
      "1875/1875 [==============================] - 1s 442us/step - loss: 0.3193 - accuracy: 0.9119 - val_loss: 0.3721 - val_accuracy: 0.9053\n",
      "Epoch 18/100\n",
      "1875/1875 [==============================] - 1s 429us/step - loss: 0.3162 - accuracy: 0.9123 - val_loss: 0.3685 - val_accuracy: 0.9060\n",
      "Epoch 19/100\n",
      "1875/1875 [==============================] - 1s 429us/step - loss: 0.3116 - accuracy: 0.9130 - val_loss: 0.3645 - val_accuracy: 0.9064\n",
      "Epoch 20/100\n",
      "1875/1875 [==============================] - 1s 429us/step - loss: 0.3082 - accuracy: 0.9150 - val_loss: 0.3791 - val_accuracy: 0.9023\n",
      "Epoch 21/100\n",
      "1875/1875 [==============================] - 1s 428us/step - loss: 0.3064 - accuracy: 0.9140 - val_loss: 0.3775 - val_accuracy: 0.9026\n",
      "Epoch 22/100\n",
      "1875/1875 [==============================] - 1s 458us/step - loss: 0.3049 - accuracy: 0.9149 - val_loss: 0.3706 - val_accuracy: 0.9036\n",
      "Epoch 23/100\n",
      "1875/1875 [==============================] - 1s 440us/step - loss: 0.3027 - accuracy: 0.9156 - val_loss: 0.3675 - val_accuracy: 0.9068\n",
      "Epoch 24/100\n",
      "1875/1875 [==============================] - 1s 438us/step - loss: 0.3002 - accuracy: 0.9159 - val_loss: 0.3668 - val_accuracy: 0.9047\n",
      "Epoch 25/100\n",
      "1875/1875 [==============================] - 1s 455us/step - loss: 0.2996 - accuracy: 0.9152 - val_loss: 0.3572 - val_accuracy: 0.9090\n",
      "Epoch 26/100\n",
      "1875/1875 [==============================] - 1s 439us/step - loss: 0.2967 - accuracy: 0.9159 - val_loss: 0.3611 - val_accuracy: 0.9091\n",
      "Epoch 27/100\n",
      "1875/1875 [==============================] - 1s 430us/step - loss: 0.2962 - accuracy: 0.9171 - val_loss: 0.3660 - val_accuracy: 0.9064\n",
      "Epoch 28/100\n",
      "1875/1875 [==============================] - 1s 431us/step - loss: 0.2951 - accuracy: 0.9168 - val_loss: 0.3590 - val_accuracy: 0.9088\n",
      "Epoch 29/100\n",
      "1875/1875 [==============================] - 1s 429us/step - loss: 0.2930 - accuracy: 0.9174 - val_loss: 0.3598 - val_accuracy: 0.9062\n",
      "Epoch 30/100\n",
      "1875/1875 [==============================] - 1s 428us/step - loss: 0.2928 - accuracy: 0.9177 - val_loss: 0.3581 - val_accuracy: 0.9111\n",
      "Epoch 31/100\n",
      "1875/1875 [==============================] - 1s 428us/step - loss: 0.2917 - accuracy: 0.9180 - val_loss: 0.3681 - val_accuracy: 0.9060\n",
      "Epoch 32/100\n",
      "1875/1875 [==============================] - 1s 430us/step - loss: 0.2908 - accuracy: 0.9174 - val_loss: 0.3594 - val_accuracy: 0.9085\n",
      "Epoch 33/100\n",
      "1875/1875 [==============================] - 1s 442us/step - loss: 0.2898 - accuracy: 0.9176 - val_loss: 0.3619 - val_accuracy: 0.9094\n",
      "Epoch 34/100\n",
      "1875/1875 [==============================] - 1s 433us/step - loss: 0.2891 - accuracy: 0.9185 - val_loss: 0.3642 - val_accuracy: 0.9085\n",
      "Epoch 35/100\n",
      "1875/1875 [==============================] - 1s 431us/step - loss: 0.2887 - accuracy: 0.9191 - val_loss: 0.3664 - val_accuracy: 0.9074\n",
      "Epoch 36/100\n",
      "1875/1875 [==============================] - 1s 429us/step - loss: 0.2889 - accuracy: 0.9183 - val_loss: 0.3560 - val_accuracy: 0.9119\n",
      "Epoch 37/100\n",
      "1875/1875 [==============================] - 1s 429us/step - loss: 0.2872 - accuracy: 0.9192 - val_loss: 0.3593 - val_accuracy: 0.9093\n",
      "Epoch 38/100\n",
      "1875/1875 [==============================] - 1s 429us/step - loss: 0.2870 - accuracy: 0.9178 - val_loss: 0.3640 - val_accuracy: 0.9072\n",
      "Epoch 39/100\n",
      "1875/1875 [==============================] - 1s 430us/step - loss: 0.2866 - accuracy: 0.9183 - val_loss: 0.3613 - val_accuracy: 0.9094\n",
      "Epoch 40/100\n",
      "1875/1875 [==============================] - 1s 430us/step - loss: 0.2848 - accuracy: 0.9193 - val_loss: 0.3732 - val_accuracy: 0.9048\n",
      "Epoch 41/100\n",
      "1875/1875 [==============================] - 1s 444us/step - loss: 0.2856 - accuracy: 0.9186 - val_loss: 0.3680 - val_accuracy: 0.9064\n",
      "Epoch 42/100\n",
      "1875/1875 [==============================] - 1s 430us/step - loss: 0.2842 - accuracy: 0.9183 - val_loss: 0.3576 - val_accuracy: 0.9101\n",
      "Epoch 43/100\n",
      "1875/1875 [==============================] - 1s 431us/step - loss: 0.2838 - accuracy: 0.9196 - val_loss: 0.3627 - val_accuracy: 0.9084\n",
      "Epoch 44/100\n",
      "1875/1875 [==============================] - 1s 430us/step - loss: 0.2833 - accuracy: 0.9190 - val_loss: 0.3657 - val_accuracy: 0.9079\n",
      "Epoch 45/100\n",
      "1875/1875 [==============================] - 1s 430us/step - loss: 0.2825 - accuracy: 0.9197 - val_loss: 0.3779 - val_accuracy: 0.9049\n",
      "Epoch 46/100\n",
      "1875/1875 [==============================] - 1s 429us/step - loss: 0.2831 - accuracy: 0.9201 - val_loss: 0.3632 - val_accuracy: 0.9080\n",
      "Epoch 47/100\n",
      "1875/1875 [==============================] - 1s 430us/step - loss: 0.2821 - accuracy: 0.9193 - val_loss: 0.3712 - val_accuracy: 0.9063\n",
      "Epoch 48/100\n",
      "1875/1875 [==============================] - 1s 442us/step - loss: 0.2824 - accuracy: 0.9203 - val_loss: 0.3645 - val_accuracy: 0.9085\n",
      "Epoch 49/100\n",
      "1875/1875 [==============================] - 1s 433us/step - loss: 0.2816 - accuracy: 0.9195 - val_loss: 0.3702 - val_accuracy: 0.9078\n",
      "Epoch 50/100\n",
      "1875/1875 [==============================] - 1s 454us/step - loss: 0.2808 - accuracy: 0.9200 - val_loss: 0.3639 - val_accuracy: 0.9105\n",
      "Epoch 51/100\n",
      "1875/1875 [==============================] - 1s 461us/step - loss: 0.2806 - accuracy: 0.9203 - val_loss: 0.3690 - val_accuracy: 0.9065\n",
      "Epoch 52/100\n",
      "1875/1875 [==============================] - 1s 465us/step - loss: 0.2813 - accuracy: 0.9192 - val_loss: 0.3720 - val_accuracy: 0.9067\n",
      "Epoch 53/100\n",
      "1875/1875 [==============================] - 1s 475us/step - loss: 0.2805 - accuracy: 0.9201 - val_loss: 0.3719 - val_accuracy: 0.9076\n",
      "Epoch 54/100\n",
      "1875/1875 [==============================] - 1s 547us/step - loss: 0.2800 - accuracy: 0.9195 - val_loss: 0.3684 - val_accuracy: 0.9085\n",
      "Epoch 55/100\n",
      "1875/1875 [==============================] - 1s 493us/step - loss: 0.2810 - accuracy: 0.9195 - val_loss: 0.3752 - val_accuracy: 0.9068\n",
      "Epoch 56/100\n",
      "1875/1875 [==============================] - 1s 468us/step - loss: 0.2796 - accuracy: 0.9206 - val_loss: 0.3660 - val_accuracy: 0.9113\n",
      "Epoch 57/100\n",
      "1875/1875 [==============================] - 1s 465us/step - loss: 0.2794 - accuracy: 0.9208 - val_loss: 0.3719 - val_accuracy: 0.9091\n",
      "Epoch 58/100\n",
      "1875/1875 [==============================] - 1s 503us/step - loss: 0.2792 - accuracy: 0.9198 - val_loss: 0.3721 - val_accuracy: 0.9081\n",
      "Epoch 59/100\n",
      "1875/1875 [==============================] - 1s 430us/step - loss: 0.2795 - accuracy: 0.9196 - val_loss: 0.3706 - val_accuracy: 0.9082\n",
      "Epoch 60/100\n",
      "1875/1875 [==============================] - 1s 430us/step - loss: 0.2794 - accuracy: 0.9203 - val_loss: 0.3654 - val_accuracy: 0.9125\n",
      "Epoch 61/100\n",
      "1875/1875 [==============================] - 1s 429us/step - loss: 0.2775 - accuracy: 0.9204 - val_loss: 0.3674 - val_accuracy: 0.9111\n",
      "Epoch 62/100\n",
      "1875/1875 [==============================] - 1s 430us/step - loss: 0.2784 - accuracy: 0.9206 - val_loss: 0.3706 - val_accuracy: 0.9110\n",
      "Epoch 63/100\n",
      "1875/1875 [==============================] - 1s 428us/step - loss: 0.2782 - accuracy: 0.9197 - val_loss: 0.3722 - val_accuracy: 0.9094\n",
      "Epoch 64/100\n",
      "1875/1875 [==============================] - 1s 444us/step - loss: 0.2773 - accuracy: 0.9211 - val_loss: 0.3704 - val_accuracy: 0.9112\n",
      "Epoch 65/100\n",
      "1875/1875 [==============================] - 1s 430us/step - loss: 0.2777 - accuracy: 0.9204 - val_loss: 0.3718 - val_accuracy: 0.9060\n",
      "Epoch 66/100\n",
      "1875/1875 [==============================] - 1s 429us/step - loss: 0.2778 - accuracy: 0.9208 - val_loss: 0.3673 - val_accuracy: 0.9128\n",
      "Epoch 67/100\n",
      "1875/1875 [==============================] - 1s 430us/step - loss: 0.2775 - accuracy: 0.9202 - val_loss: 0.3780 - val_accuracy: 0.9055\n",
      "Epoch 68/100\n",
      "1875/1875 [==============================] - 1s 428us/step - loss: 0.2762 - accuracy: 0.9214 - val_loss: 0.3714 - val_accuracy: 0.9094\n",
      "Epoch 69/100\n",
      "1875/1875 [==============================] - 1s 429us/step - loss: 0.2763 - accuracy: 0.9206 - val_loss: 0.3709 - val_accuracy: 0.9119\n",
      "Epoch 70/100\n",
      "1875/1875 [==============================] - 1s 429us/step - loss: 0.2763 - accuracy: 0.9200 - val_loss: 0.3810 - val_accuracy: 0.9078\n",
      "Epoch 71/100\n",
      "1875/1875 [==============================] - 1s 450us/step - loss: 0.2768 - accuracy: 0.9216 - val_loss: 0.3876 - val_accuracy: 0.9043\n",
      "Epoch 72/100\n",
      "1875/1875 [==============================] - 1s 430us/step - loss: 0.2768 - accuracy: 0.9206 - val_loss: 0.3739 - val_accuracy: 0.9087\n",
      "Epoch 73/100\n",
      "1875/1875 [==============================] - 1s 429us/step - loss: 0.2769 - accuracy: 0.9201 - val_loss: 0.3681 - val_accuracy: 0.9120\n",
      "Epoch 74/100\n",
      "1875/1875 [==============================] - 1s 430us/step - loss: 0.2759 - accuracy: 0.9210 - val_loss: 0.3748 - val_accuracy: 0.9078\n",
      "Epoch 75/100\n",
      "1875/1875 [==============================] - 1s 490us/step - loss: 0.2765 - accuracy: 0.9213 - val_loss: 0.3699 - val_accuracy: 0.9099\n",
      "Epoch 76/100\n",
      "1875/1875 [==============================] - 1s 430us/step - loss: 0.2756 - accuracy: 0.9214 - val_loss: 0.3766 - val_accuracy: 0.9089\n",
      "Epoch 77/100\n",
      "1875/1875 [==============================] - 1s 442us/step - loss: 0.2753 - accuracy: 0.9208 - val_loss: 0.3811 - val_accuracy: 0.9062\n",
      "Epoch 78/100\n",
      "1875/1875 [==============================] - 1s 433us/step - loss: 0.2756 - accuracy: 0.9212 - val_loss: 0.3745 - val_accuracy: 0.9095\n",
      "Epoch 79/100\n",
      "1875/1875 [==============================] - 1s 429us/step - loss: 0.2751 - accuracy: 0.9211 - val_loss: 0.3762 - val_accuracy: 0.9089\n",
      "Epoch 80/100\n",
      "1875/1875 [==============================] - 1s 429us/step - loss: 0.2746 - accuracy: 0.9224 - val_loss: 0.3808 - val_accuracy: 0.9078\n",
      "Epoch 81/100\n",
      "1875/1875 [==============================] - 1s 430us/step - loss: 0.2743 - accuracy: 0.9214 - val_loss: 0.3804 - val_accuracy: 0.9082\n",
      "Epoch 82/100\n",
      "1875/1875 [==============================] - 1s 429us/step - loss: 0.2743 - accuracy: 0.9222 - val_loss: 0.3924 - val_accuracy: 0.9039\n",
      "Epoch 83/100\n",
      "1875/1875 [==============================] - 1s 430us/step - loss: 0.2754 - accuracy: 0.9217 - val_loss: 0.3780 - val_accuracy: 0.9106\n",
      "Epoch 84/100\n",
      "1875/1875 [==============================] - 1s 443us/step - loss: 0.2750 - accuracy: 0.9213 - val_loss: 0.3759 - val_accuracy: 0.9107\n",
      "Epoch 85/100\n",
      "1875/1875 [==============================] - 1s 434us/step - loss: 0.2741 - accuracy: 0.9224 - val_loss: 0.3808 - val_accuracy: 0.9093\n",
      "Epoch 86/100\n",
      "1875/1875 [==============================] - 1s 430us/step - loss: 0.2738 - accuracy: 0.9215 - val_loss: 0.3785 - val_accuracy: 0.9115\n",
      "Epoch 87/100\n",
      "1875/1875 [==============================] - 1s 430us/step - loss: 0.2744 - accuracy: 0.9215 - val_loss: 0.3770 - val_accuracy: 0.9091\n",
      "Epoch 88/100\n",
      "1875/1875 [==============================] - 1s 441us/step - loss: 0.2732 - accuracy: 0.9218 - val_loss: 0.3795 - val_accuracy: 0.9087\n",
      "Epoch 89/100\n",
      "1875/1875 [==============================] - 1s 437us/step - loss: 0.2738 - accuracy: 0.9219 - val_loss: 0.3811 - val_accuracy: 0.9078\n",
      "Epoch 90/100\n",
      "1875/1875 [==============================] - 1s 457us/step - loss: 0.2724 - accuracy: 0.9214 - val_loss: 0.3823 - val_accuracy: 0.9089\n",
      "Epoch 91/100\n",
      "1875/1875 [==============================] - 1s 430us/step - loss: 0.2742 - accuracy: 0.9224 - val_loss: 0.3877 - val_accuracy: 0.9067\n",
      "Epoch 92/100\n",
      "1875/1875 [==============================] - 1s 435us/step - loss: 0.2736 - accuracy: 0.9219 - val_loss: 0.3848 - val_accuracy: 0.9084\n",
      "Epoch 93/100\n",
      "1875/1875 [==============================] - 1s 440us/step - loss: 0.2732 - accuracy: 0.9220 - val_loss: 0.3807 - val_accuracy: 0.9102\n",
      "Epoch 94/100\n",
      "1875/1875 [==============================] - 1s 437us/step - loss: 0.2729 - accuracy: 0.9223 - val_loss: 0.3888 - val_accuracy: 0.9062\n",
      "Epoch 95/100\n",
      "1875/1875 [==============================] - 1s 445us/step - loss: 0.2731 - accuracy: 0.9211 - val_loss: 0.3851 - val_accuracy: 0.9081\n",
      "Epoch 96/100\n",
      "1875/1875 [==============================] - 1s 457us/step - loss: 0.2734 - accuracy: 0.9216 - val_loss: 0.3828 - val_accuracy: 0.9099\n",
      "Epoch 97/100\n",
      "1875/1875 [==============================] - 1s 441us/step - loss: 0.2736 - accuracy: 0.9213 - val_loss: 0.3923 - val_accuracy: 0.9059\n",
      "Epoch 98/100\n",
      "1875/1875 [==============================] - 1s 441us/step - loss: 0.2732 - accuracy: 0.9215 - val_loss: 0.3824 - val_accuracy: 0.9105\n",
      "Epoch 99/100\n",
      "1875/1875 [==============================] - 1s 450us/step - loss: 0.2728 - accuracy: 0.9219 - val_loss: 0.3929 - val_accuracy: 0.9050\n",
      "Epoch 100/100\n",
      "1875/1875 [==============================] - 1s 462us/step - loss: 0.2733 - accuracy: 0.9210 - val_loss: 0.3811 - val_accuracy: 0.9101\n"
     ]
    }
   ],
   "source": [
    "model = tf.keras.Sequential([\n",
    "    tf.keras.layers.Dense(10, activation=\"softmax\")\n",
    "])\n",
    "\n",
    "model.compile(optimizer=tf.keras.optimizers.Adam(learning_rate=0.0001),\n",
    "              loss=tf.keras.losses.SparseCategoricalCrossentropy(),\n",
    "              metrics=\"accuracy\",)\n",
    "\n",
    "history = model.fit(train_image_combined, train_labels,batch_size=32, epochs=100, validation_data=(test_image_combined, test_labels))"
   ]
  },
  {
   "cell_type": "code",
   "execution_count": 38,
   "metadata": {},
   "outputs": [
    {
     "data": {
      "text/plain": [
       "<Axes: >"
      ]
     },
     "execution_count": 38,
     "metadata": {},
     "output_type": "execute_result"
    },
    {
     "data": {
      "image/png": "[encoded data removed]",
      "text/plain": [
       "<Figure size 640x480 with 1 Axes>"
      ]
     },
     "metadata": {},
     "output_type": "display_data"
    }
   ],
   "source": [
    "import pandas as pd\n",
    "pd.DataFrame(history.history).plot()"
   ]
  },
  {
   "cell_type": "code",
   "execution_count": 39,
   "metadata": {},
   "outputs": [
    {
     "name": "stdout",
     "output_type": "stream",
     "text": [
      "313/313 [==============================] - 0s 329us/step\n"
     ]
    }
   ],
   "source": [
    "predictions = model.predict(test_image_combined)"
   ]
  },
  {
   "cell_type": "code",
   "execution_count": 42,
   "metadata": {},
   "outputs": [
    {
     "name": "stdout",
     "output_type": "stream",
     "text": [
      "313/313 [==============================] - 0s 389us/step - loss: 0.3811 - accuracy: 0.9101\n"
     ]
    },
    {
     "data": {
      "text/plain": [
       "[0.38109534978866577, 0.910099983215332]"
      ]
     },
     "execution_count": 42,
     "metadata": {},
     "output_type": "execute_result"
    }
   ],
   "source": [
    "model.evaluate(test_image_combined, test_labels)"
   ]
  }
 ],
 "metadata": {
  "kernelspec": {
   "display_name": "tf",
   "language": "python",
   "name": "python3"
  },
  "language_info": {
   "codemirror_mode": {
    "name": "ipython",
    "version": 3
   },
   "file_extension": ".py",
   "mimetype": "text/x-python",
   "name": "python",
   "nbconvert_exporter": "python",
   "pygments_lexer": "ipython3",
   "version": "3.10.10"
  },
  "orig_nbformat": 4
 },
 "nbformat": 4,
 "nbformat_minor": 2
}
